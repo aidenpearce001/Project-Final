{
 "cells": [
  {
   "cell_type": "code",
   "execution_count": 1,
   "metadata": {},
   "outputs": [],
   "source": [
    "import IPython.display as ipd\n",
    "import librosa\n",
    "import librosa.display\n",
    "import matplotlib.pyplot as plt\n",
    "import logging\n",
    "import math\n",
    "import os\n",
    "import wave\n",
    "from time import time\n",
    "from bit_manipulation import lsb_deinterleave_bytes, lsb_interleave_bytes"
   ]
  },
  {
   "cell_type": "code",
   "execution_count": 2,
   "metadata": {},
   "outputs": [],
   "source": [
    "def hide_data(sound_path, file_path, output_path, num_lsb):\n",
    "    \"\"\"Hide data from the file at file_path in the sound file at sound_path\"\"\"\n",
    "    if sound_path is None:\n",
    "        raise ValueError(\"WavSteg hiding requires an input sound file path\")\n",
    "    if file_path is None:\n",
    "        raise ValueError(\"WavSteg hiding requires a secret file path\")\n",
    "    if output_path is None:\n",
    "        raise ValueError(\"WavSteg hiding requires an output sound file path\")\n",
    "\n",
    "    sound = wave.open(sound_path, \"r\")\n",
    "\n",
    "    params = sound.getparams()\n",
    "    num_channels = sound.getnchannels()\n",
    "    sample_width = sound.getsampwidth()\n",
    "    num_frames = sound.getnframes()\n",
    "    num_samples = num_frames * num_channels\n",
    "\n",
    "    # We can hide up to num_lsb bits in each sample of the sound file\n",
    "    max_bytes_to_hide = (num_samples * num_lsb) // 8\n",
    "    file_size = os.stat(file_path).st_size\n",
    "\n",
    "    print(f\"Using {num_lsb} LSBs, we can hide {max_bytes_to_hide} bytes\")\n",
    "\n",
    "    start = time()\n",
    "    sound_frames = sound.readframes(num_frames)\n",
    "    with open(file_path, \"rb\") as file:\n",
    "        data = file.read()\n",
    "    print(\"Files read\".ljust(30) + f\" in {time() - start:.2f}s\")\n",
    "\n",
    "    if file_size > max_bytes_to_hide:\n",
    "        required_lsb = math.ceil(file_size * 8 / num_samples)\n",
    "        raise ValueError(\n",
    "            \"Input file too large to hide, \"\n",
    "            f\"requires {required_lsb} LSBs, using {num_lsb}\"\n",
    "        )\n",
    "\n",
    "    if sample_width != 1 and sample_width != 2:\n",
    "        # Python's wave module doesn't support higher sample widths\n",
    "        raise ValueError(\"File has an unsupported bit-depth\")\n",
    "\n",
    "    start = time()\n",
    "    sound_frames = lsb_interleave_bytes(\n",
    "        sound_frames, data, num_lsb, byte_depth=sample_width\n",
    "    )\n",
    "    print(f\"{file_size} bytes hidden\".ljust(30) + f\" in {time() - start:.2f}s\")\n",
    "\n",
    "    start = time()\n",
    "    sound_steg = wave.open(output_path, \"w\")\n",
    "    sound_steg.setparams(params)\n",
    "    sound_steg.writeframes(sound_frames)\n",
    "    sound_steg.close()\n",
    "    print(\"Output wav written\".ljust(30) + f\" in {time() - start:.2f}s\")"
   ]
  },
  {
   "cell_type": "code",
   "execution_count": 3,
   "metadata": {},
   "outputs": [
    {
     "name": "stdout",
     "output_type": "stream",
     "text": [
      "Using 2 LSBs, we can hide 1094661 bytes\n",
      "Files read                     in 0.07s\n",
      "11 bytes hidden                in 0.02s\n",
      "Output wav written             in 0.01s\n"
     ]
    }
   ],
   "source": [
    "hide_data(\"demo.wav\",\"untitled.txt\",\"testing.wav\",2)"
   ]
  },
  {
   "cell_type": "code",
   "execution_count": 5,
   "metadata": {},
   "outputs": [],
   "source": [
    "def recover_data(sound_path, output_path, num_lsb, bytes_to_recover):\n",
    "    \"\"\"Recover data from the file at sound_path to the file at output_path\"\"\"\n",
    "    if sound_path is None:\n",
    "        raise ValueError(\"WavSteg recovery requires an input sound file path\")\n",
    "    if output_path is None:\n",
    "        raise ValueError(\"WavSteg recovery requires an output file path\")\n",
    "    if bytes_to_recover is None:\n",
    "        raise ValueError(\"WavSteg recovery requires the number of bytes to recover\")\n",
    "\n",
    "    start = time()\n",
    "    sound = wave.open(sound_path, \"r\")\n",
    "\n",
    "    # num_channels = sound.getnchannels()\n",
    "    sample_width = sound.getsampwidth()\n",
    "    num_frames = sound.getnframes()\n",
    "    sound_frames = sound.readframes(num_frames)\n",
    "    print(\"Files read\".ljust(30) + f\" in {time() - start:.2f}s\")\n",
    "\n",
    "    if sample_width != 1 and sample_width != 2:\n",
    "        # Python's wave module doesn't support higher sample widths\n",
    "        raise ValueError(\"File has an unsupported bit-depth\")\n",
    "\n",
    "    start = time()\n",
    "    data = lsb_deinterleave_bytes(\n",
    "        sound_frames, 8 * bytes_to_recover, num_lsb, byte_depth=sample_width\n",
    "    )\n",
    "    log.debug(\n",
    "        f\"Recovered {bytes_to_recover} bytes\".ljust(30) + f\" in {time() - start:.2f}s\"\n",
    "    )\n",
    "\n",
    "    start = time()\n",
    "    output_file = open(output_path, \"wb+\")\n",
    "    output_file.write(bytes(data))\n",
    "    output_file.close()\n",
    "    log.debug(\"Written output file\".ljust(30) + f\" in {time() - start:.2f}s\")"
   ]
  },
  {
   "cell_type": "code",
   "execution_count": 7,
   "metadata": {},
   "outputs": [
    {
     "name": "stdout",
     "output_type": "stream",
     "text": [
      "Files read                     in 0.01s\n"
     ]
    }
   ],
   "source": [
    "recover_data(\"upload/secret.wav\",\"output1.txt\",2,1000)"
   ]
  }
 ],
 "metadata": {
  "kernelspec": {
   "display_name": "Python 3",
   "language": "python",
   "name": "python3"
  },
  "language_info": {
   "codemirror_mode": {
    "name": "ipython",
    "version": 3
   },
   "file_extension": ".py",
   "mimetype": "text/x-python",
   "name": "python",
   "nbconvert_exporter": "python",
   "pygments_lexer": "ipython3",
   "version": "3.8.5"
  }
 },
 "nbformat": 4,
 "nbformat_minor": 4
}
