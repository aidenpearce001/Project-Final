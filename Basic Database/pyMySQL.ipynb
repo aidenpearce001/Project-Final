{
 "cells": [
  {
   "cell_type": "code",
   "execution_count": 14,
   "metadata": {},
   "outputs": [],
   "source": [
    "import pandas as pd\n",
    "import json\n",
    "import math "
   ]
  },
  {
   "cell_type": "code",
   "execution_count": 12,
   "metadata": {},
   "outputs": [
    {
     "data": {
      "text/html": [
       "<div>\n",
       "<style scoped>\n",
       "    .dataframe tbody tr th:only-of-type {\n",
       "        vertical-align: middle;\n",
       "    }\n",
       "\n",
       "    .dataframe tbody tr th {\n",
       "        vertical-align: top;\n",
       "    }\n",
       "\n",
       "    .dataframe thead th {\n",
       "        text-align: right;\n",
       "    }\n",
       "</style>\n",
       "<table border=\"1\" class=\"dataframe\">\n",
       "  <thead>\n",
       "    <tr style=\"text-align: right;\">\n",
       "      <th></th>\n",
       "      <th>Unnamed: 0</th>\n",
       "      <th>Name</th>\n",
       "      <th>Address</th>\n",
       "      <th>AvgRatingText</th>\n",
       "      <th>TotalReviews</th>\n",
       "      <th>TotalFavourites</th>\n",
       "      <th>TotalViews</th>\n",
       "      <th>TotalPictures</th>\n",
       "      <th>TotalCheckIns</th>\n",
       "      <th>Url</th>\n",
       "      <th>...</th>\n",
       "      <th>Giữ xe máy miễn phí</th>\n",
       "      <th>Tip cho nhân viên</th>\n",
       "      <th>Có khu vực hút thuốc</th>\n",
       "      <th>Có thẻ thành viên</th>\n",
       "      <th>Có xuất hóa đơn đỏ</th>\n",
       "      <th>Có hỗ trợ hội thảo</th>\n",
       "      <th>Có lò sưởi</th>\n",
       "      <th>Có hỗ trợ người khuyết tật</th>\n",
       "      <th>Có chiếu bóng đá</th>\n",
       "      <th>Có nhạc sống</th>\n",
       "    </tr>\n",
       "  </thead>\n",
       "  <tbody>\n",
       "    <tr>\n",
       "      <th>0</th>\n",
       "      <td>0</td>\n",
       "      <td>Bánh Tôm Hồ Tây</td>\n",
       "      <td>1 Thanh Niên, P. Yên Phụ (Đối Diện Chùa Trấn Q...</td>\n",
       "      <td>5.9</td>\n",
       "      <td>149</td>\n",
       "      <td>0</td>\n",
       "      <td>0</td>\n",
       "      <td>415</td>\n",
       "      <td>0</td>\n",
       "      <td>/ha-noi/banh-tom-ho-tay</td>\n",
       "      <td>...</td>\n",
       "      <td>0.0</td>\n",
       "      <td>0.0</td>\n",
       "      <td>1.0</td>\n",
       "      <td>1.0</td>\n",
       "      <td>1.0</td>\n",
       "      <td>1.0</td>\n",
       "      <td>0.0</td>\n",
       "      <td>1.0</td>\n",
       "      <td>0.0</td>\n",
       "      <td>0.0</td>\n",
       "    </tr>\n",
       "    <tr>\n",
       "      <th>1</th>\n",
       "      <td>1</td>\n",
       "      <td>Vạn Tuế - Nhà Hàng Tiệc Cưới</td>\n",
       "      <td>23 Thái Thịnh, Quận Đống Đa, Hà Nội</td>\n",
       "      <td>6.7</td>\n",
       "      <td>29</td>\n",
       "      <td>0</td>\n",
       "      <td>0</td>\n",
       "      <td>146</td>\n",
       "      <td>0</td>\n",
       "      <td>/ha-noi/van-tue</td>\n",
       "      <td>...</td>\n",
       "      <td>1.0</td>\n",
       "      <td>0.0</td>\n",
       "      <td>1.0</td>\n",
       "      <td>1.0</td>\n",
       "      <td>1.0</td>\n",
       "      <td>1.0</td>\n",
       "      <td>0.0</td>\n",
       "      <td>1.0</td>\n",
       "      <td>0.0</td>\n",
       "      <td>0.0</td>\n",
       "    </tr>\n",
       "    <tr>\n",
       "      <th>2</th>\n",
       "      <td>2</td>\n",
       "      <td>Gà 36 - Linh Đàm</td>\n",
       "      <td>36 Nguyễn Hữu Thọ (đường đôi Linh Đàm), Quận H...</td>\n",
       "      <td>5.5</td>\n",
       "      <td>13</td>\n",
       "      <td>0</td>\n",
       "      <td>0</td>\n",
       "      <td>11</td>\n",
       "      <td>0</td>\n",
       "      <td>/ha-noi/ga-36-linh-dam</td>\n",
       "      <td>...</td>\n",
       "      <td>1.0</td>\n",
       "      <td>0.0</td>\n",
       "      <td>0.0</td>\n",
       "      <td>1.0</td>\n",
       "      <td>1.0</td>\n",
       "      <td>0.0</td>\n",
       "      <td>0.0</td>\n",
       "      <td>0.0</td>\n",
       "      <td>0.0</td>\n",
       "      <td>0.0</td>\n",
       "    </tr>\n",
       "    <tr>\n",
       "      <th>3</th>\n",
       "      <td>3</td>\n",
       "      <td>Wabi Sabi - Lẩu Nhật Bản</td>\n",
       "      <td>15 Tô Hiến Thành, Quận Hai Bà Trưng, Hà Nội</td>\n",
       "      <td>6.2</td>\n",
       "      <td>16</td>\n",
       "      <td>0</td>\n",
       "      <td>0</td>\n",
       "      <td>81</td>\n",
       "      <td>0</td>\n",
       "      <td>/ha-noi/wabi-sabi</td>\n",
       "      <td>...</td>\n",
       "      <td>1.0</td>\n",
       "      <td>1.0</td>\n",
       "      <td>1.0</td>\n",
       "      <td>1.0</td>\n",
       "      <td>1.0</td>\n",
       "      <td>1.0</td>\n",
       "      <td>0.0</td>\n",
       "      <td>0.0</td>\n",
       "      <td>0.0</td>\n",
       "      <td>0.0</td>\n",
       "    </tr>\n",
       "    <tr>\n",
       "      <th>4</th>\n",
       "      <td>4</td>\n",
       "      <td>Miwa - Ẩm thực Nhật</td>\n",
       "      <td>31 Láng Hạ, Quận Ba Đình, Hà Nội</td>\n",
       "      <td>7.1</td>\n",
       "      <td>9</td>\n",
       "      <td>0</td>\n",
       "      <td>0</td>\n",
       "      <td>49</td>\n",
       "      <td>0</td>\n",
       "      <td>/ha-noi/miwa</td>\n",
       "      <td>...</td>\n",
       "      <td>1.0</td>\n",
       "      <td>0.0</td>\n",
       "      <td>1.0</td>\n",
       "      <td>1.0</td>\n",
       "      <td>1.0</td>\n",
       "      <td>1.0</td>\n",
       "      <td>0.0</td>\n",
       "      <td>1.0</td>\n",
       "      <td>0.0</td>\n",
       "      <td>0.0</td>\n",
       "    </tr>\n",
       "  </tbody>\n",
       "</table>\n",
       "<p>5 rows × 60 columns</p>\n",
       "</div>"
      ],
      "text/plain": [
       "   Unnamed: 0                          Name  \\\n",
       "0           0               Bánh Tôm Hồ Tây   \n",
       "1           1  Vạn Tuế - Nhà Hàng Tiệc Cưới   \n",
       "2           2              Gà 36 - Linh Đàm   \n",
       "3           3      Wabi Sabi - Lẩu Nhật Bản   \n",
       "4           4           Miwa - Ẩm thực Nhật   \n",
       "\n",
       "                                             Address  AvgRatingText  \\\n",
       "0  1 Thanh Niên, P. Yên Phụ (Đối Diện Chùa Trấn Q...            5.9   \n",
       "1                23 Thái Thịnh, Quận Đống Đa, Hà Nội            6.7   \n",
       "2  36 Nguyễn Hữu Thọ (đường đôi Linh Đàm), Quận H...            5.5   \n",
       "3        15 Tô Hiến Thành, Quận Hai Bà Trưng, Hà Nội            6.2   \n",
       "4                   31 Láng Hạ, Quận Ba Đình, Hà Nội            7.1   \n",
       "\n",
       "   TotalReviews  TotalFavourites  TotalViews  TotalPictures  TotalCheckIns  \\\n",
       "0           149                0           0            415              0   \n",
       "1            29                0           0            146              0   \n",
       "2            13                0           0             11              0   \n",
       "3            16                0           0             81              0   \n",
       "4             9                0           0             49              0   \n",
       "\n",
       "                       Url  ...  Giữ xe máy miễn phí  Tip cho nhân viên  \\\n",
       "0  /ha-noi/banh-tom-ho-tay  ...                  0.0                0.0   \n",
       "1          /ha-noi/van-tue  ...                  1.0                0.0   \n",
       "2   /ha-noi/ga-36-linh-dam  ...                  1.0                0.0   \n",
       "3        /ha-noi/wabi-sabi  ...                  1.0                1.0   \n",
       "4             /ha-noi/miwa  ...                  1.0                0.0   \n",
       "\n",
       "  Có khu vực hút thuốc  Có thẻ thành viên  Có xuất hóa đơn đỏ  \\\n",
       "0                  1.0                1.0                 1.0   \n",
       "1                  1.0                1.0                 1.0   \n",
       "2                  0.0                1.0                 1.0   \n",
       "3                  1.0                1.0                 1.0   \n",
       "4                  1.0                1.0                 1.0   \n",
       "\n",
       "   Có hỗ trợ hội thảo  Có lò sưởi  Có hỗ trợ người khuyết tật  \\\n",
       "0                 1.0         0.0                         1.0   \n",
       "1                 1.0         0.0                         1.0   \n",
       "2                 0.0         0.0                         0.0   \n",
       "3                 1.0         0.0                         0.0   \n",
       "4                 1.0         0.0                         1.0   \n",
       "\n",
       "  Có chiếu bóng đá Có nhạc sống  \n",
       "0              0.0          0.0  \n",
       "1              0.0          0.0  \n",
       "2              0.0          0.0  \n",
       "3              0.0          0.0  \n",
       "4              0.0          0.0  \n",
       "\n",
       "[5 rows x 60 columns]"
      ]
     },
     "execution_count": 12,
     "metadata": {},
     "output_type": "execute_result"
    }
   ],
   "source": [
    "df = pd.read_csv(\"data/restaurant_info.csv\")\n",
    "df.head()"
   ]
  },
  {
   "cell_type": "code",
   "execution_count": 143,
   "metadata": {},
   "outputs": [
    {
     "data": {
      "text/plain": [
       "Index(['Unnamed: 0', 'Name', 'Address', 'AvgRatingText', 'TotalReviews',\n",
       "       'TotalFavourites', 'TotalViews', 'TotalPictures', 'TotalCheckIns',\n",
       "       'Url', 'Latitude', 'Longitude', 'ResCreatedOn', 'điểm chất lượng',\n",
       "       'điểm phục vụ', 'điểm không gian', 'điểm giá cả', 'điểm vị trí',\n",
       "       'thời gian mở', 'thời gian đóng', 'khoảng giá', 'Tổng bình luận',\n",
       "       'bình luyện tuyệt vời', 'bình luận tốt', 'bình luận trung bình',\n",
       "       'bình luận kém', 'Tên nhà hàng', 'Khoảng giá khác',\n",
       "       'Thời gian hoạt động', 'Thích hợp', 'Giờ nhận khách cuối',\n",
       "       'Thời gian chuẩn bị', 'Nghỉ lễ', 'Thể loại', 'Sức chứa',\n",
       "       'Phong cách ẩm thực', 'Phù hợp với', 'Phục vụ các món', 'Website',\n",
       "       'Có wifi', 'Có giao hàng', 'Có máy lạnh & điều hòa', 'Cho mua về',\n",
       "       'Trả bằng thẻ', 'Có chỗ đậu ôtô', 'Nên đặt trước', 'Có bàn ngoài trời',\n",
       "       'Có phòng riêng', 'Có chỗ chơi cho trẻ em', 'Có karaoke',\n",
       "       'Giữ xe máy miễn phí', 'Tip cho nhân viên', 'Có khu vực hút thuốc',\n",
       "       'Có thẻ thành viên', 'Có xuất hóa đơn đỏ', 'Có hỗ trợ hội thảo',\n",
       "       'Có lò sưởi', 'Có hỗ trợ người khuyết tật', 'Có chiếu bóng đá',\n",
       "       'Có nhạc sống'],\n",
       "      dtype='object')"
      ]
     },
     "execution_count": 143,
     "metadata": {},
     "output_type": "execute_result"
    }
   ],
   "source": [
    "df.columns"
   ]
  },
  {
   "cell_type": "code",
   "execution_count": 84,
   "metadata": {},
   "outputs": [],
   "source": [
    "data = {}\n",
    "data['Hà Nội'] = {}\n",
    "for i,k in enumerate(df['Name']):\n",
    "    data['Hà Nội'][k] = {}\n",
    "#     print(k)\n",
    "#     print(data['Ha Noi'][i])\n",
    "    data['Hà Nội'][k]['địa điểm'] = df[\"Address\"][i]\n",
    "    data['Hà Nội'][k]['điểm chất lượng'] = df[\"điểm chất lượng\"][i]\n",
    "    data['Hà Nội'][k]['điểm không gian'] = df[\"điểm không gian\"][i]\n",
    "    data['Hà Nội'][k]['điểm giá cả'] = df[\"điểm giá cả\"][i]\n",
    "    data['Hà Nội'][k]['điểm vị trí'] = df[\"điểm vị trí\"][i]\n",
    "    data['Hà Nội'][k]['thời gian mở'] = df[\"thời gian mở\"][i]\n",
    "    data['Hà Nội'][k]['thời gian đóng'] = df[\"thời gian đóng\"][i]\n",
    "    data['Hà Nội'][k]['khoảng giá'] = df[\"khoảng giá\"][i]\n",
    "    data['Hà Nội'][k]['Phong cách ẩm thực'] = df[\"Phong cách ẩm thực\"][i]\n",
    "    data['Hà Nội'][k]['Phục vụ các món'] = df[\"Phục vụ các món\"][i]\n",
    "    data['Hà Nội'][k]['Có máy lạnh & điều hòa'] = df[\"Có máy lạnh & điều hòa\"][i]\n",
    "    data['Hà Nội'][k]['Cho mua về'] = df[\"Cho mua về\"][i]\n",
    "    data['Hà Nội'][k]['Có wifi'] = df[\"Có wifi\"][i]\n",
    "    data['Hà Nội'][k]['Có bàn ngoài trời'] = df[\"Có bàn ngoài trời\"][i]\n",
    "    data['Hà Nội'][k]['Có chỗ đậu ôtô'] = df[\"Có chỗ đậu ôtô\"][i]\n",
    "    data['Hà Nội'][k]['Cho mua về'] = df[\"Cho mua về\"][i]\n",
    "    data['Hà Nội'][k]['Có phòng riêng'] = df[\"Có phòng riêng\"][i]\n",
    "    data['Hà Nội'][k]['Giữ xe máy miễn phí'] = df[\"Giữ xe máy miễn phí\"][i]\n",
    "    data['Hà Nội'][k]['Có khu vực hút thuốc'] = df[\"Có khu vực hút thuốc\"][i]\n",
    "    data['Hà Nội'][k]['Có chiếu bóng đá'] = df[\"Có chiếu bóng đá\"][i]\n",
    "    data['Hà Nội'][k]['Có nhạc sống'] = df[\"Có nhạc sống\"][i]\n",
    "    \n",
    "#     data['Ha Noi'][k].append(df[\"Address\"][i])\n",
    "#     data['Ha Noi'][k].append(df[\"AvgRatingText\"][i])\n",
    "#     data['Ha Noi'][k].append(df[\"Giữ xe máy miễn phí\"][i])\n",
    "#     data['Ha Noi'][k].append(df[\"Có khu vực hút thuốc\"][i])\n",
    "#     data['Ha Noi'][k].append(df[\"Có chiếu bóng đá\"][i])\n",
    "#     data['Ha Noi'][k].append(df[\"Có nhạc sống\"][i])\n"
   ]
  },
  {
   "cell_type": "code",
   "execution_count": 88,
   "metadata": {},
   "outputs": [
    {
     "name": "stdout",
     "output_type": "stream",
     "text": [
      "1 Thanh Niên, P. Yên Phụ (Đối Diện Chùa Trấn Quốc), Quận Tây Hồ, Hà Nội\n",
      "7.2\n",
      "5.5\n",
      "5.2\n",
      "4.9\n",
      "09:00\n",
      "21:00\n",
      "80.000đ - 132.000đ\n",
      "['Món Việt', 'Món Bắc', 'Hà Nội']\n",
      "nan\n",
      "0.0\n",
      "1.0\n",
      "0.0\n",
      "1.0\n",
      "1.0\n",
      "1.0\n",
      "0.0\n",
      "1.0\n",
      "0.0\n",
      "0.0\n"
     ]
    }
   ],
   "source": [
    "for v, i in data[\"Hà Nội\"][\"Bánh Tôm Hồ Tây\"].items():\n",
    "    print(i)"
   ]
  },
  {
   "cell_type": "code",
   "execution_count": 106,
   "metadata": {},
   "outputs": [],
   "source": [
    "with open('data.json', 'w',encoding='utf-8') as file:\n",
    "    json_string = json.dumps(data, default=lambda o: o.__dict__, indent=2 , ensure_ascii = False)\n",
    "    file.write(json_string)"
   ]
  },
  {
   "cell_type": "code",
   "execution_count": 16,
   "metadata": {},
   "outputs": [],
   "source": [
    "with open('data.json',encoding='utf-8') as json_file:\n",
    "    data = json.load(json_file)\n",
    "#     print(data)"
   ]
  },
  {
   "cell_type": "code",
   "execution_count": 44,
   "metadata": {},
   "outputs": [
    {
     "data": {
      "text/plain": [
       "5.9"
      ]
     },
     "execution_count": 44,
     "metadata": {},
     "output_type": "execute_result"
    }
   ],
   "source": [
    "df['AvgRatingText'][0]"
   ]
  },
  {
   "cell_type": "code",
   "execution_count": 162,
   "metadata": {},
   "outputs": [],
   "source": [
    "import pymysql\n",
    "db = pymysql.connect( host = '127.0.0.1',\n",
    "      user = 'root',passwd = '1234',database=\"restaurant\")\n",
    "cursor = db.cursor()\n"
   ]
  },
  {
   "cell_type": "code",
   "execution_count": 40,
   "metadata": {},
   "outputs": [
    {
     "data": {
      "text/plain": [
       "1"
      ]
     },
     "execution_count": 40,
     "metadata": {},
     "output_type": "execute_result"
    }
   ],
   "source": [
    "cursor.execute(\"CREATE DATABASE restaurant\")"
   ]
  },
  {
   "cell_type": "code",
   "execution_count": 45,
   "metadata": {},
   "outputs": [
    {
     "data": {
      "text/plain": [
       "[('information_schema',),\n",
       " ('mysql',),\n",
       " ('performance_schema',),\n",
       " ('restaurant',),\n",
       " ('sys',)]"
      ]
     },
     "execution_count": 45,
     "metadata": {},
     "output_type": "execute_result"
    }
   ],
   "source": [
    "cursor.execute(\"SHOW DATABASES\")\n",
    "[x for x in cursor]"
   ]
  },
  {
   "cell_type": "code",
   "execution_count": 73,
   "metadata": {},
   "outputs": [],
   "source": [
    "cols = \"\"\n",
    "for v, i in data[\"Hà Nội\"][\"Bánh Tôm Hồ Tây\"].items():\n",
    "#     cols += \"`\"+v+\"`\"+\" VARCHAR(255),\"\n",
    "    cols += \"`\"+v+\"`\"+\",\"\n"
   ]
  },
  {
   "cell_type": "code",
   "execution_count": 74,
   "metadata": {},
   "outputs": [
    {
     "data": {
      "text/plain": [
       "'`địa điểm`,`điểm chất lượng`,`điểm không gian`,`điểm giá cả`,`điểm vị trí`,`thời gian mở`,`thời gian đóng`,`khoảng giá`,`Phong cách ẩm thực`,`Phục vụ các món`,`Có máy lạnh & điều hòa`,`Cho mua về`,`Có wifi`,`Có bàn ngoài trời`,`Có chỗ đậu ôtô`,`Có phòng riêng`,`Giữ xe máy miễn phí`,`Có khu vực hút thuốc`,`Có chiếu bóng đá`,`Có nhạc sống`'"
      ]
     },
     "execution_count": 74,
     "metadata": {},
     "output_type": "execute_result"
    }
   ],
   "source": [
    "cols[:-1]"
   ]
  },
  {
   "cell_type": "code",
   "execution_count": 69,
   "metadata": {},
   "outputs": [
    {
     "data": {
      "text/plain": [
       "0"
      ]
     },
     "execution_count": 69,
     "metadata": {},
     "output_type": "execute_result"
    }
   ],
   "source": [
    "cursor.execute(\"CREATE TABLE restaurant ({})\".format(cols[:-1]))"
   ]
  },
  {
   "cell_type": "code",
   "execution_count": 68,
   "metadata": {},
   "outputs": [
    {
     "data": {
      "text/plain": [
       "0"
      ]
     },
     "execution_count": 68,
     "metadata": {},
     "output_type": "execute_result"
    }
   ],
   "source": [
    "cursor.execute(\"DROP TABLE IF EXISTS restaurant\")"
   ]
  },
  {
   "cell_type": "code",
   "execution_count": 70,
   "metadata": {},
   "outputs": [
    {
     "data": {
      "text/plain": [
       "[('customers',), ('restaurant',)]"
      ]
     },
     "execution_count": 70,
     "metadata": {},
     "output_type": "execute_result"
    }
   ],
   "source": [
    "cursor.execute(\"SHOW TABLES\")\n",
    "[x for x in cursor]"
   ]
  },
  {
   "cell_type": "code",
   "execution_count": 153,
   "metadata": {},
   "outputs": [
    {
     "data": {
      "text/plain": [
       "2"
      ]
     },
     "execution_count": 153,
     "metadata": {},
     "output_type": "execute_result"
    }
   ],
   "source": [
    "cursor.execute(\"alter table restaurant change `Phục vụ các món` `Phục vụ các món` longtext\")"
   ]
  },
  {
   "cell_type": "code",
   "execution_count": 150,
   "metadata": {},
   "outputs": [],
   "source": [
    "sql = \"\"\"INSERT INTO restaurant(`địa điểm`,`điểm chất lượng`,`điểm không gian`,`điểm giá cả`,`điểm vị trí`,`thời gian mở`,`thời gian đóng`,`khoảng giá`,`Phong cách ẩm thực`,`Phục vụ các món`,`Có máy lạnh & điều hòa`,`Cho mua về`,`Có wifi`,`Có bàn ngoài trời`,`Có chỗ đậu ôtô`,`Có phòng riêng`,`Giữ xe máy miễn phí`,`Có khu vực hút thuốc`,`Có chiếu bóng đá`,`Có nhạc sống`) VALUES(%s,%s,%s,%s,%s,%s,%s,%s,%s,%s, %s,%s,%s,%s,%s,%s,%s,%s,%s,%s)\"\"\""
   ]
  },
  {
   "cell_type": "code",
   "execution_count": 160,
   "metadata": {},
   "outputs": [],
   "source": [
    "for v, i in data[\"Hà Nội\"].items():\n",
    "    d = list(data[\"Hà Nội\"][v].values())\n",
    "    d = [\"NULL\" if str(i)=='nan' else str(i) for i in d]\n",
    "#     print(d)\n",
    "    cursor.execute(sql, d)\n",
    "db.commit()\n",
    "cursor.close()"
   ]
  },
  {
   "cell_type": "code",
   "execution_count": 159,
   "metadata": {
    "scrolled": false
   },
   "outputs": [
    {
     "data": {
      "text/plain": [
       "3602"
      ]
     },
     "execution_count": 159,
     "metadata": {},
     "output_type": "execute_result"
    }
   ],
   "source": [
    "cursor.execute(\"SELECT * FROM restaurant\")"
   ]
  }
 ],
 "metadata": {
  "kernelspec": {
   "display_name": "Python 3",
   "language": "python",
   "name": "python3"
  },
  "language_info": {
   "codemirror_mode": {
    "name": "ipython",
    "version": 3
   },
   "file_extension": ".py",
   "mimetype": "text/x-python",
   "name": "python",
   "nbconvert_exporter": "python",
   "pygments_lexer": "ipython3",
   "version": "3.7.3"
  }
 },
 "nbformat": 4,
 "nbformat_minor": 2
}
